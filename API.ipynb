{
  "nbformat": 4,
  "nbformat_minor": 0,
  "metadata": {
    "colab": {
      "name": "API.ipynb",
      "provenance": [],
      "collapsed_sections": [],
      "include_colab_link": true
    },
    "kernelspec": {
      "display_name": "Python 3",
      "name": "python3"
    },
    "widgets": {
      "application/vnd.jupyter.widget-state+json": {
        "2c1453b6a13a42fba50615904e3b565a": {
          "model_module": "@jupyter-widgets/controls",
          "model_name": "HBoxModel",
          "state": {
            "_view_name": "HBoxView",
            "_dom_classes": [],
            "_model_name": "HBoxModel",
            "_view_module": "@jupyter-widgets/controls",
            "_model_module_version": "1.5.0",
            "_view_count": null,
            "_view_module_version": "1.5.0",
            "box_style": "",
            "layout": "IPY_MODEL_b07657e2fc42459397a603eed9a357db",
            "_model_module": "@jupyter-widgets/controls",
            "children": [
              "IPY_MODEL_21f13b23bb2f4925be6328b13782fa1c",
              "IPY_MODEL_c362c654aac14f4cba05a32f10f60275"
            ]
          }
        },
        "b07657e2fc42459397a603eed9a357db": {
          "model_module": "@jupyter-widgets/base",
          "model_name": "LayoutModel",
          "state": {
            "_view_name": "LayoutView",
            "grid_template_rows": null,
            "right": null,
            "justify_content": null,
            "_view_module": "@jupyter-widgets/base",
            "overflow": null,
            "_model_module_version": "1.2.0",
            "_view_count": null,
            "flex_flow": null,
            "width": null,
            "min_width": null,
            "border": null,
            "align_items": null,
            "bottom": null,
            "_model_module": "@jupyter-widgets/base",
            "top": null,
            "grid_column": null,
            "overflow_y": null,
            "overflow_x": null,
            "grid_auto_flow": null,
            "grid_area": null,
            "grid_template_columns": null,
            "flex": null,
            "_model_name": "LayoutModel",
            "justify_items": null,
            "grid_row": null,
            "max_height": null,
            "align_content": null,
            "visibility": null,
            "align_self": null,
            "height": null,
            "min_height": null,
            "padding": null,
            "grid_auto_rows": null,
            "grid_gap": null,
            "max_width": null,
            "order": null,
            "_view_module_version": "1.2.0",
            "grid_template_areas": null,
            "object_position": null,
            "object_fit": null,
            "grid_auto_columns": null,
            "margin": null,
            "display": null,
            "left": null
          }
        },
        "21f13b23bb2f4925be6328b13782fa1c": {
          "model_module": "@jupyter-widgets/controls",
          "model_name": "FloatProgressModel",
          "state": {
            "_view_name": "ProgressView",
            "style": "IPY_MODEL_9ee3352aa905448e89b8a63f01a04697",
            "_dom_classes": [],
            "description": "100%",
            "_model_name": "FloatProgressModel",
            "bar_style": "success",
            "max": 731,
            "_view_module": "@jupyter-widgets/controls",
            "_model_module_version": "1.5.0",
            "value": 731,
            "_view_count": null,
            "_view_module_version": "1.5.0",
            "orientation": "horizontal",
            "min": 0,
            "description_tooltip": null,
            "_model_module": "@jupyter-widgets/controls",
            "layout": "IPY_MODEL_d8e0dffc385b4fa790d77fa9f40d6d18"
          }
        },
        "c362c654aac14f4cba05a32f10f60275": {
          "model_module": "@jupyter-widgets/controls",
          "model_name": "HTMLModel",
          "state": {
            "_view_name": "HTMLView",
            "style": "IPY_MODEL_9fce2105f0b248c285ca64e4d82efad5",
            "_dom_classes": [],
            "description": "",
            "_model_name": "HTMLModel",
            "placeholder": "​",
            "_view_module": "@jupyter-widgets/controls",
            "_model_module_version": "1.5.0",
            "value": " 731/731 [02:45&lt;00:00,  4.42it/s]",
            "_view_count": null,
            "_view_module_version": "1.5.0",
            "description_tooltip": null,
            "_model_module": "@jupyter-widgets/controls",
            "layout": "IPY_MODEL_0a5dd5e5eb9b44f798753977f0aeb89c"
          }
        },
        "9ee3352aa905448e89b8a63f01a04697": {
          "model_module": "@jupyter-widgets/controls",
          "model_name": "ProgressStyleModel",
          "state": {
            "_view_name": "StyleView",
            "_model_name": "ProgressStyleModel",
            "description_width": "initial",
            "_view_module": "@jupyter-widgets/base",
            "_model_module_version": "1.5.0",
            "_view_count": null,
            "_view_module_version": "1.2.0",
            "bar_color": null,
            "_model_module": "@jupyter-widgets/controls"
          }
        },
        "d8e0dffc385b4fa790d77fa9f40d6d18": {
          "model_module": "@jupyter-widgets/base",
          "model_name": "LayoutModel",
          "state": {
            "_view_name": "LayoutView",
            "grid_template_rows": null,
            "right": null,
            "justify_content": null,
            "_view_module": "@jupyter-widgets/base",
            "overflow": null,
            "_model_module_version": "1.2.0",
            "_view_count": null,
            "flex_flow": null,
            "width": null,
            "min_width": null,
            "border": null,
            "align_items": null,
            "bottom": null,
            "_model_module": "@jupyter-widgets/base",
            "top": null,
            "grid_column": null,
            "overflow_y": null,
            "overflow_x": null,
            "grid_auto_flow": null,
            "grid_area": null,
            "grid_template_columns": null,
            "flex": null,
            "_model_name": "LayoutModel",
            "justify_items": null,
            "grid_row": null,
            "max_height": null,
            "align_content": null,
            "visibility": null,
            "align_self": null,
            "height": null,
            "min_height": null,
            "padding": null,
            "grid_auto_rows": null,
            "grid_gap": null,
            "max_width": null,
            "order": null,
            "_view_module_version": "1.2.0",
            "grid_template_areas": null,
            "object_position": null,
            "object_fit": null,
            "grid_auto_columns": null,
            "margin": null,
            "display": null,
            "left": null
          }
        },
        "9fce2105f0b248c285ca64e4d82efad5": {
          "model_module": "@jupyter-widgets/controls",
          "model_name": "DescriptionStyleModel",
          "state": {
            "_view_name": "StyleView",
            "_model_name": "DescriptionStyleModel",
            "description_width": "",
            "_view_module": "@jupyter-widgets/base",
            "_model_module_version": "1.5.0",
            "_view_count": null,
            "_view_module_version": "1.2.0",
            "_model_module": "@jupyter-widgets/controls"
          }
        },
        "0a5dd5e5eb9b44f798753977f0aeb89c": {
          "model_module": "@jupyter-widgets/base",
          "model_name": "LayoutModel",
          "state": {
            "_view_name": "LayoutView",
            "grid_template_rows": null,
            "right": null,
            "justify_content": null,
            "_view_module": "@jupyter-widgets/base",
            "overflow": null,
            "_model_module_version": "1.2.0",
            "_view_count": null,
            "flex_flow": null,
            "width": null,
            "min_width": null,
            "border": null,
            "align_items": null,
            "bottom": null,
            "_model_module": "@jupyter-widgets/base",
            "top": null,
            "grid_column": null,
            "overflow_y": null,
            "overflow_x": null,
            "grid_auto_flow": null,
            "grid_area": null,
            "grid_template_columns": null,
            "flex": null,
            "_model_name": "LayoutModel",
            "justify_items": null,
            "grid_row": null,
            "max_height": null,
            "align_content": null,
            "visibility": null,
            "align_self": null,
            "height": null,
            "min_height": null,
            "padding": null,
            "grid_auto_rows": null,
            "grid_gap": null,
            "max_width": null,
            "order": null,
            "_view_module_version": "1.2.0",
            "grid_template_areas": null,
            "object_position": null,
            "object_fit": null,
            "grid_auto_columns": null,
            "margin": null,
            "display": null,
            "left": null
          }
        }
      }
    }
  },
  "cells": [
    {
      "cell_type": "markdown",
      "metadata": {
        "id": "view-in-github",
        "colab_type": "text"
      },
      "source": [
        "<a href=\"https://colab.research.google.com/github/angyf/Proyecto_Eq_10/blob/main/API.ipynb\" target=\"_parent\"><img src=\"https://colab.research.google.com/assets/colab-badge.svg\" alt=\"Open In Colab\"/></a>"
      ]
    },
    {
      "cell_type": "markdown",
      "metadata": {
        "id": "3uFC83b4AdWz"
      },
      "source": [
        "Debido a que la API que complementa la información del proyecto no puede ser automatizada, se decidio trabajar con una diferente. Se escogio la API de superheroes con el fin de conocer mas sobre las caracteristicas generales de estos."
      ]
    },
    {
      "cell_type": "code",
      "metadata": {
        "id": "QrqrsnV09SyY"
      },
      "source": [
        "#importamos paqueterias utiles para la automatización de carga y limpieza\r\n",
        "import requests\r\n",
        "import pandas as pd\r\n",
        "from tqdm.notebook import tqdm\r\n",
        "import numpy as np"
      ],
      "execution_count": 1,
      "outputs": []
    },
    {
      "cell_type": "code",
      "metadata": {
        "colab": {
          "base_uri": "https://localhost:8080/"
        },
        "id": "Gthpn4699gGg",
        "outputId": "e33d00fd-382b-43e4-ca6e-173f960290b4"
      },
      "source": [
        "#hacemos la carga de un dato con el fin de ver la información que es posible extraer\r\n",
        "url='https://superheroapi.com/api/4258681504161074/1'\r\n",
        "r=requests.get(url)\r\n",
        "#veamos si la carga se realizo correctamente\r\n",
        "r.status_code\r\n"
      ],
      "execution_count": 2,
      "outputs": [
        {
          "output_type": "execute_result",
          "data": {
            "text/plain": [
              "200"
            ]
          },
          "metadata": {
            "tags": []
          },
          "execution_count": 2
        }
      ]
    },
    {
      "cell_type": "code",
      "metadata": {
        "colab": {
          "base_uri": "https://localhost:8080/"
        },
        "id": "-GfvdDCKB3YR",
        "outputId": "8813b3f8-9ae8-4559-a8b1-45ed18765c7a"
      },
      "source": [
        "#veamos el contenido de lla consulta\r\n",
        "response=r.json()\r\n",
        "response.keys()"
      ],
      "execution_count": 3,
      "outputs": [
        {
          "output_type": "execute_result",
          "data": {
            "text/plain": [
              "dict_keys(['response', 'id', 'name', 'powerstats', 'biography', 'appearance', 'work', 'connections', 'image'])"
            ]
          },
          "metadata": {
            "tags": []
          },
          "execution_count": 3
        }
      ]
    },
    {
      "cell_type": "markdown",
      "metadata": {
        "id": "CoX3isdNCH6o"
      },
      "source": [
        "Realizamos la carga de información sobre caracteristicas generales de los superheroes como lo son: nombre, superpoderes,editorial a la que pertenecen y caracteristicas físicas (peso y altura).\r\n",
        "\r\n",
        "Al correr la siguiente celda se presenta una barra que presenta el progreso de a carga pues el tiempo que esto toma depende del nivel de conexión a internet que se tenga "
      ]
    },
    {
      "cell_type": "code",
      "metadata": {
        "colab": {
          "base_uri": "https://localhost:8080/",
          "height": 66,
          "referenced_widgets": [
            "2c1453b6a13a42fba50615904e3b565a",
            "b07657e2fc42459397a603eed9a357db",
            "21f13b23bb2f4925be6328b13782fa1c",
            "c362c654aac14f4cba05a32f10f60275",
            "9ee3352aa905448e89b8a63f01a04697",
            "d8e0dffc385b4fa790d77fa9f40d6d18",
            "9fce2105f0b248c285ca64e4d82efad5",
            "0a5dd5e5eb9b44f798753977f0aeb89c"
          ]
        },
        "id": "bfgJLUOFFIA9",
        "outputId": "e091af75-55a6-43fc-e6fa-3042c3b299d4"
      },
      "source": [
        "#automatizamos el proceso para la carga de \r\n",
        "df=pd.DataFrame()\r\n",
        "for i in tqdm(range(1,732)):\r\n",
        "  try:\r\n",
        "    url=f'https://superheroapi.com/api/4258681504161074/{i}'\r\n",
        "    r=requests.get(url)\r\n",
        "    if r.status_code==200:\r\n",
        "      response=r.json()\r\n",
        "      datos_normalizados_1=pd.json_normalize(response['powerstats'])\r\n",
        "      datos_normalizados_2=pd.Series(response['biography']['publisher'])\r\n",
        "      datos_normalizados_3=pd.json_normalize(response['appearance'])\r\n",
        "      name=pd.Series(response['name'])\r\n",
        "      registro=pd.concat([name,datos_normalizados_1,datos_normalizados_2,datos_normalizados_3],axis=1)\r\n",
        "      df=pd.concat([df,registro],axis=0)\r\n",
        "      \r\n",
        "  except:\r\n",
        "    continue\r\n",
        "\r\n"
      ],
      "execution_count": 4,
      "outputs": [
        {
          "output_type": "display_data",
          "data": {
            "application/vnd.jupyter.widget-view+json": {
              "model_id": "2c1453b6a13a42fba50615904e3b565a",
              "version_minor": 0,
              "version_major": 2
            },
            "text/plain": [
              "HBox(children=(FloatProgress(value=0.0, max=731.0), HTML(value='')))"
            ]
          },
          "metadata": {
            "tags": []
          }
        },
        {
          "output_type": "stream",
          "text": [
            "\n"
          ],
          "name": "stdout"
        }
      ]
    },
    {
      "cell_type": "code",
      "metadata": {
        "colab": {
          "base_uri": "https://localhost:8080/",
          "height": 197
        },
        "id": "nfM1f5GPYKtv",
        "outputId": "f268ac5c-64ab-4a47-ef8e-4595ca31e81f"
      },
      "source": [
        "#vamos nuestros datos\r\n",
        "df.head()"
      ],
      "execution_count": 5,
      "outputs": [
        {
          "output_type": "execute_result",
          "data": {
            "text/html": [
              "<div>\n",
              "<style scoped>\n",
              "    .dataframe tbody tr th:only-of-type {\n",
              "        vertical-align: middle;\n",
              "    }\n",
              "\n",
              "    .dataframe tbody tr th {\n",
              "        vertical-align: top;\n",
              "    }\n",
              "\n",
              "    .dataframe thead th {\n",
              "        text-align: right;\n",
              "    }\n",
              "</style>\n",
              "<table border=\"1\" class=\"dataframe\">\n",
              "  <thead>\n",
              "    <tr style=\"text-align: right;\">\n",
              "      <th></th>\n",
              "      <th>0</th>\n",
              "      <th>intelligence</th>\n",
              "      <th>strength</th>\n",
              "      <th>speed</th>\n",
              "      <th>durability</th>\n",
              "      <th>power</th>\n",
              "      <th>combat</th>\n",
              "      <th>1</th>\n",
              "      <th>gender</th>\n",
              "      <th>race</th>\n",
              "      <th>height</th>\n",
              "      <th>weight</th>\n",
              "      <th>eye-color</th>\n",
              "      <th>hair-color</th>\n",
              "    </tr>\n",
              "  </thead>\n",
              "  <tbody>\n",
              "    <tr>\n",
              "      <th>0</th>\n",
              "      <td>A-Bomb</td>\n",
              "      <td>38</td>\n",
              "      <td>100</td>\n",
              "      <td>17</td>\n",
              "      <td>80</td>\n",
              "      <td>24</td>\n",
              "      <td>64</td>\n",
              "      <td>Marvel Comics</td>\n",
              "      <td>Male</td>\n",
              "      <td>Human</td>\n",
              "      <td>[6'8, 203 cm]</td>\n",
              "      <td>[980 lb, 441 kg]</td>\n",
              "      <td>Yellow</td>\n",
              "      <td>No Hair</td>\n",
              "    </tr>\n",
              "    <tr>\n",
              "      <th>0</th>\n",
              "      <td>Abe Sapien</td>\n",
              "      <td>88</td>\n",
              "      <td>28</td>\n",
              "      <td>35</td>\n",
              "      <td>65</td>\n",
              "      <td>100</td>\n",
              "      <td>85</td>\n",
              "      <td>Dark Horse Comics</td>\n",
              "      <td>Male</td>\n",
              "      <td>Icthyo Sapien</td>\n",
              "      <td>[6'3, 191 cm]</td>\n",
              "      <td>[145 lb, 65 kg]</td>\n",
              "      <td>Blue</td>\n",
              "      <td>No Hair</td>\n",
              "    </tr>\n",
              "    <tr>\n",
              "      <th>0</th>\n",
              "      <td>Abin Sur</td>\n",
              "      <td>50</td>\n",
              "      <td>90</td>\n",
              "      <td>53</td>\n",
              "      <td>64</td>\n",
              "      <td>99</td>\n",
              "      <td>65</td>\n",
              "      <td>DC Comics</td>\n",
              "      <td>Male</td>\n",
              "      <td>Ungaran</td>\n",
              "      <td>[6'1, 185 cm]</td>\n",
              "      <td>[200 lb, 90 kg]</td>\n",
              "      <td>Blue</td>\n",
              "      <td>No Hair</td>\n",
              "    </tr>\n",
              "    <tr>\n",
              "      <th>0</th>\n",
              "      <td>Abomination</td>\n",
              "      <td>63</td>\n",
              "      <td>80</td>\n",
              "      <td>53</td>\n",
              "      <td>90</td>\n",
              "      <td>62</td>\n",
              "      <td>95</td>\n",
              "      <td>Marvel Comics</td>\n",
              "      <td>Male</td>\n",
              "      <td>Human / Radiation</td>\n",
              "      <td>[6'8, 203 cm]</td>\n",
              "      <td>[980 lb, 441 kg]</td>\n",
              "      <td>Green</td>\n",
              "      <td>No Hair</td>\n",
              "    </tr>\n",
              "    <tr>\n",
              "      <th>0</th>\n",
              "      <td>Abraxas</td>\n",
              "      <td>88</td>\n",
              "      <td>63</td>\n",
              "      <td>83</td>\n",
              "      <td>100</td>\n",
              "      <td>100</td>\n",
              "      <td>55</td>\n",
              "      <td>Marvel Comics</td>\n",
              "      <td>Male</td>\n",
              "      <td>Cosmic Entity</td>\n",
              "      <td>[-, 0 cm]</td>\n",
              "      <td>[- lb, 0 kg]</td>\n",
              "      <td>Blue</td>\n",
              "      <td>Black</td>\n",
              "    </tr>\n",
              "  </tbody>\n",
              "</table>\n",
              "</div>"
            ],
            "text/plain": [
              "             0 intelligence strength  ...            weight eye-color hair-color\n",
              "0       A-Bomb           38      100  ...  [980 lb, 441 kg]    Yellow    No Hair\n",
              "0   Abe Sapien           88       28  ...   [145 lb, 65 kg]      Blue    No Hair\n",
              "0     Abin Sur           50       90  ...   [200 lb, 90 kg]      Blue    No Hair\n",
              "0  Abomination           63       80  ...  [980 lb, 441 kg]     Green    No Hair\n",
              "0      Abraxas           88       63  ...      [- lb, 0 kg]      Blue      Black\n",
              "\n",
              "[5 rows x 14 columns]"
            ]
          },
          "metadata": {
            "tags": []
          },
          "execution_count": 5
        }
      ]
    },
    {
      "cell_type": "markdown",
      "metadata": {
        "id": "DoyqfmlLD7Aw"
      },
      "source": [
        "# <center> Limpieza de la base de datos <center>\r\n",
        "\r\n",
        "* Tenemos que reindexar la información pues todos los registros presentan un indice igual a cero. \r\n",
        " \r\n",
        "* Tambien notamos que podríamos presentar de mejor forma el peso y la altura con un solo registro en estas columnas.\r\n",
        "\r\n",
        "* Así mismo hay nombres de columnas que no nos dicen nada por lo que es mejor cambiar los nombres.\r\n",
        "\r\n",
        "* Finalmente revisaremos que el tipo de dato corresponda a lo que se presenta, en caso de que esto no suceda se realizaran las modificaciones necesarias\r\n"
      ]
    },
    {
      "cell_type": "code",
      "metadata": {
        "id": "MUP2ZF4xLfuQ"
      },
      "source": [
        "#reindexamos el DF\r\n",
        "df=df.reset_index(drop=True)\r\n"
      ],
      "execution_count": 6,
      "outputs": []
    },
    {
      "cell_type": "code",
      "metadata": {
        "id": "aj-qrBEF9rcZ"
      },
      "source": [
        "#obtenemos el peso en kg, en caso de no haber registro se registra un NaN\r\n",
        "def repl(x):\r\n",
        "  try:\r\n",
        "    x=str(x[1])\r\n",
        "    x=str(x.replace('kg','')).strip()\r\n",
        "    x=int(x)\r\n",
        "  except:\r\n",
        "    x=float('NaN')\r\n",
        "  return x\r\n",
        "df['weight']=df['weight'].apply(repl)"
      ],
      "execution_count": 7,
      "outputs": []
    },
    {
      "cell_type": "code",
      "metadata": {
        "id": "SgFVpewMAvSR"
      },
      "source": [
        "#Obtenemos la altura en cm y la convertimos a metros\r\n",
        "# en caso de no haber registro se registra una NaN\r\n",
        "def repl2(x):\r\n",
        "  try:\r\n",
        "    x=str(x[1])\r\n",
        "    x=str(x.replace('cm','')).strip()\r\n",
        "    x=int(x)\r\n",
        "    x/=100\r\n",
        "  except:\r\n",
        "    x=float('NaN')\r\n",
        "  return x\r\n",
        "df['height']=df['height'].apply(repl2)\r\n"
      ],
      "execution_count": 8,
      "outputs": []
    },
    {
      "cell_type": "code",
      "metadata": {
        "id": "LRMaunyl7Vrp"
      },
      "source": [
        "#renombraremos algunas columnas con nombres mas explicitos\r\n",
        "nombres={\r\n",
        "    0:'name',\r\n",
        "    1:'publisher',\r\n",
        "    'height':'height_m',\r\n",
        "    'weight':'weight_kg'\r\n",
        "}\r\n",
        "\r\n",
        "df=df.rename(columns=nombres)\r\n"
      ],
      "execution_count": 9,
      "outputs": []
    },
    {
      "cell_type": "code",
      "metadata": {
        "id": "tXfKMA55Woh5",
        "colab": {
          "base_uri": "https://localhost:8080/"
        },
        "outputId": "273f1060-6d68-4964-e5ef-e9b71bade743"
      },
      "source": [
        "df.dtypes"
      ],
      "execution_count": 10,
      "outputs": [
        {
          "output_type": "execute_result",
          "data": {
            "text/plain": [
              "name             object\n",
              "intelligence     object\n",
              "strength         object\n",
              "speed            object\n",
              "durability       object\n",
              "power            object\n",
              "combat           object\n",
              "publisher        object\n",
              "gender           object\n",
              "race             object\n",
              "height_m        float64\n",
              "weight_kg       float64\n",
              "eye-color        object\n",
              "hair-color       object\n",
              "dtype: object"
            ]
          },
          "metadata": {
            "tags": []
          },
          "execution_count": 10
        }
      ]
    },
    {
      "cell_type": "markdown",
      "metadata": {
        "id": "c06v51iWWvx0"
      },
      "source": [
        "Notamos que los tipos de datos no son los correctos, por lo que realizaremos las transformación"
      ]
    },
    {
      "cell_type": "code",
      "metadata": {
        "id": "ESSD6uduXVXg",
        "colab": {
          "base_uri": "https://localhost:8080/"
        },
        "outputId": "ff375412-1233-463e-b71a-77036e4d9f5f"
      },
      "source": [
        "#reliazamos una copia para que no se modifiquen los datos extraidos originalmente\r\n",
        "df1= df.copy()\r\n",
        "#Lista auxiliar\r\n",
        "columnas=['intelligence','strength','speed','durability','power','combat']\r\n",
        "#eliminamos columnas que no sirven para el análisis\r\n",
        "del df1['race']\r\n",
        "#modificamos las columnas que presentan datos numericos       \r\n",
        "for columna in columnas:\r\n",
        "  df1[columna]=pd.to_numeric(df1[columna],errors='coerce')\r\n",
        "#Revisamos de nuevo el tipo de datos de nuestra base\r\n",
        "df1.dtypes"
      ],
      "execution_count": 11,
      "outputs": [
        {
          "output_type": "execute_result",
          "data": {
            "text/plain": [
              "name             object\n",
              "intelligence    float64\n",
              "strength        float64\n",
              "speed           float64\n",
              "durability      float64\n",
              "power           float64\n",
              "combat          float64\n",
              "publisher        object\n",
              "gender           object\n",
              "height_m        float64\n",
              "weight_kg       float64\n",
              "eye-color        object\n",
              "hair-color       object\n",
              "dtype: object"
            ]
          },
          "metadata": {
            "tags": []
          },
          "execution_count": 11
        }
      ]
    },
    {
      "cell_type": "markdown",
      "metadata": {
        "id": "98Pc-O9PcEeS"
      },
      "source": [
        "Limpieza de datos nulos"
      ]
    },
    {
      "cell_type": "code",
      "metadata": {
        "colab": {
          "base_uri": "https://localhost:8080/"
        },
        "id": "UwJfb8x694Qt",
        "outputId": "4d1e3a2c-a269-4229-c1cb-bcc6eb64b149"
      },
      "source": [
        "#veamos cuantos nulos tenemos\r\n",
        "df1.isna().sum()"
      ],
      "execution_count": 12,
      "outputs": [
        {
          "output_type": "execute_result",
          "data": {
            "text/plain": [
              "name              0\n",
              "intelligence    165\n",
              "strength        102\n",
              "speed           165\n",
              "durability      165\n",
              "power           165\n",
              "combat          165\n",
              "publisher         0\n",
              "gender            0\n",
              "height_m          8\n",
              "weight_kg         7\n",
              "eye-color         0\n",
              "hair-color        0\n",
              "dtype: int64"
            ]
          },
          "metadata": {
            "tags": []
          },
          "execution_count": 12
        }
      ]
    },
    {
      "cell_type": "code",
      "metadata": {
        "id": "aHOpTnSq9kcc"
      },
      "source": [
        "#Quitaremos los registros con datos NaN\r\n",
        "df1=df1.dropna(axis=0, how='any')\r\n",
        "#Debido a que el peso y la altura no puden ser 0 o negativos se quitaran tambien estos registros \r\n",
        "filtro_peso=df1['weight_kg']>0\r\n",
        "filtro_altura=df1['height_m']>0\r\n",
        "\r\n"
      ],
      "execution_count": 13,
      "outputs": []
    },
    {
      "cell_type": "markdown",
      "metadata": {
        "id": "-NNjTA4eEnAX"
      },
      "source": [
        "Finalmente tenemos una base de datos limpia para un análisis."
      ]
    },
    {
      "cell_type": "code",
      "metadata": {
        "id": "iOZoZlIJEqQU",
        "colab": {
          "base_uri": "https://localhost:8080/",
          "height": 406
        },
        "outputId": "a074c061-8882-4c3f-af37-d25fa8b380ec"
      },
      "source": [
        "#aplicamos un filtro para restringir que peso y altura sean no negativos\r\n",
        "df_clean=df1[filtro_peso & filtro_altura]\r\n",
        "\r\n",
        "#creamos la base limpia que servira para analisis.\r\n",
        "df_clean=df_clean.reset_index(drop=True)\r\n",
        "\r\n",
        "df_clean"
      ],
      "execution_count": 14,
      "outputs": [
        {
          "output_type": "execute_result",
          "data": {
            "text/html": [
              "<div>\n",
              "<style scoped>\n",
              "    .dataframe tbody tr th:only-of-type {\n",
              "        vertical-align: middle;\n",
              "    }\n",
              "\n",
              "    .dataframe tbody tr th {\n",
              "        vertical-align: top;\n",
              "    }\n",
              "\n",
              "    .dataframe thead th {\n",
              "        text-align: right;\n",
              "    }\n",
              "</style>\n",
              "<table border=\"1\" class=\"dataframe\">\n",
              "  <thead>\n",
              "    <tr style=\"text-align: right;\">\n",
              "      <th></th>\n",
              "      <th>name</th>\n",
              "      <th>intelligence</th>\n",
              "      <th>strength</th>\n",
              "      <th>speed</th>\n",
              "      <th>durability</th>\n",
              "      <th>power</th>\n",
              "      <th>combat</th>\n",
              "      <th>publisher</th>\n",
              "      <th>gender</th>\n",
              "      <th>height_m</th>\n",
              "      <th>weight_kg</th>\n",
              "      <th>eye-color</th>\n",
              "      <th>hair-color</th>\n",
              "    </tr>\n",
              "  </thead>\n",
              "  <tbody>\n",
              "    <tr>\n",
              "      <th>0</th>\n",
              "      <td>A-Bomb</td>\n",
              "      <td>38.0</td>\n",
              "      <td>100.0</td>\n",
              "      <td>17.0</td>\n",
              "      <td>80.0</td>\n",
              "      <td>24.0</td>\n",
              "      <td>64.0</td>\n",
              "      <td>Marvel Comics</td>\n",
              "      <td>Male</td>\n",
              "      <td>2.03</td>\n",
              "      <td>441.0</td>\n",
              "      <td>Yellow</td>\n",
              "      <td>No Hair</td>\n",
              "    </tr>\n",
              "    <tr>\n",
              "      <th>1</th>\n",
              "      <td>Abe Sapien</td>\n",
              "      <td>88.0</td>\n",
              "      <td>28.0</td>\n",
              "      <td>35.0</td>\n",
              "      <td>65.0</td>\n",
              "      <td>100.0</td>\n",
              "      <td>85.0</td>\n",
              "      <td>Dark Horse Comics</td>\n",
              "      <td>Male</td>\n",
              "      <td>1.91</td>\n",
              "      <td>65.0</td>\n",
              "      <td>Blue</td>\n",
              "      <td>No Hair</td>\n",
              "    </tr>\n",
              "    <tr>\n",
              "      <th>2</th>\n",
              "      <td>Abin Sur</td>\n",
              "      <td>50.0</td>\n",
              "      <td>90.0</td>\n",
              "      <td>53.0</td>\n",
              "      <td>64.0</td>\n",
              "      <td>99.0</td>\n",
              "      <td>65.0</td>\n",
              "      <td>DC Comics</td>\n",
              "      <td>Male</td>\n",
              "      <td>1.85</td>\n",
              "      <td>90.0</td>\n",
              "      <td>Blue</td>\n",
              "      <td>No Hair</td>\n",
              "    </tr>\n",
              "    <tr>\n",
              "      <th>3</th>\n",
              "      <td>Abomination</td>\n",
              "      <td>63.0</td>\n",
              "      <td>80.0</td>\n",
              "      <td>53.0</td>\n",
              "      <td>90.0</td>\n",
              "      <td>62.0</td>\n",
              "      <td>95.0</td>\n",
              "      <td>Marvel Comics</td>\n",
              "      <td>Male</td>\n",
              "      <td>2.03</td>\n",
              "      <td>441.0</td>\n",
              "      <td>Green</td>\n",
              "      <td>No Hair</td>\n",
              "    </tr>\n",
              "    <tr>\n",
              "      <th>4</th>\n",
              "      <td>Absorbing Man</td>\n",
              "      <td>38.0</td>\n",
              "      <td>80.0</td>\n",
              "      <td>25.0</td>\n",
              "      <td>100.0</td>\n",
              "      <td>98.0</td>\n",
              "      <td>64.0</td>\n",
              "      <td>Marvel Comics</td>\n",
              "      <td>Male</td>\n",
              "      <td>1.93</td>\n",
              "      <td>122.0</td>\n",
              "      <td>Blue</td>\n",
              "      <td>No Hair</td>\n",
              "    </tr>\n",
              "    <tr>\n",
              "      <th>...</th>\n",
              "      <td>...</td>\n",
              "      <td>...</td>\n",
              "      <td>...</td>\n",
              "      <td>...</td>\n",
              "      <td>...</td>\n",
              "      <td>...</td>\n",
              "      <td>...</td>\n",
              "      <td>...</td>\n",
              "      <td>...</td>\n",
              "      <td>...</td>\n",
              "      <td>...</td>\n",
              "      <td>...</td>\n",
              "      <td>...</td>\n",
              "    </tr>\n",
              "    <tr>\n",
              "      <th>423</th>\n",
              "      <td>Yellowjacket</td>\n",
              "      <td>88.0</td>\n",
              "      <td>10.0</td>\n",
              "      <td>12.0</td>\n",
              "      <td>28.0</td>\n",
              "      <td>12.0</td>\n",
              "      <td>14.0</td>\n",
              "      <td>Ant-Man</td>\n",
              "      <td>Male</td>\n",
              "      <td>1.83</td>\n",
              "      <td>83.0</td>\n",
              "      <td>Blue</td>\n",
              "      <td>Blond</td>\n",
              "    </tr>\n",
              "    <tr>\n",
              "      <th>424</th>\n",
              "      <td>Yellowjacket II</td>\n",
              "      <td>50.0</td>\n",
              "      <td>10.0</td>\n",
              "      <td>35.0</td>\n",
              "      <td>28.0</td>\n",
              "      <td>31.0</td>\n",
              "      <td>28.0</td>\n",
              "      <td>Marvel Comics</td>\n",
              "      <td>Female</td>\n",
              "      <td>1.65</td>\n",
              "      <td>52.0</td>\n",
              "      <td>Blue</td>\n",
              "      <td>Strawberry Blond</td>\n",
              "    </tr>\n",
              "    <tr>\n",
              "      <th>425</th>\n",
              "      <td>Yoda</td>\n",
              "      <td>88.0</td>\n",
              "      <td>52.0</td>\n",
              "      <td>33.0</td>\n",
              "      <td>25.0</td>\n",
              "      <td>100.0</td>\n",
              "      <td>90.0</td>\n",
              "      <td>George Lucas</td>\n",
              "      <td>Male</td>\n",
              "      <td>0.66</td>\n",
              "      <td>17.0</td>\n",
              "      <td>Brown</td>\n",
              "      <td>White</td>\n",
              "    </tr>\n",
              "    <tr>\n",
              "      <th>426</th>\n",
              "      <td>Zatanna</td>\n",
              "      <td>81.0</td>\n",
              "      <td>10.0</td>\n",
              "      <td>23.0</td>\n",
              "      <td>28.0</td>\n",
              "      <td>100.0</td>\n",
              "      <td>56.0</td>\n",
              "      <td>DC Comics</td>\n",
              "      <td>Female</td>\n",
              "      <td>1.70</td>\n",
              "      <td>57.0</td>\n",
              "      <td>Blue</td>\n",
              "      <td>Black</td>\n",
              "    </tr>\n",
              "    <tr>\n",
              "      <th>427</th>\n",
              "      <td>Zoom</td>\n",
              "      <td>50.0</td>\n",
              "      <td>10.0</td>\n",
              "      <td>100.0</td>\n",
              "      <td>28.0</td>\n",
              "      <td>100.0</td>\n",
              "      <td>28.0</td>\n",
              "      <td>DC Comics</td>\n",
              "      <td>Male</td>\n",
              "      <td>1.85</td>\n",
              "      <td>81.0</td>\n",
              "      <td>Red</td>\n",
              "      <td>Brown</td>\n",
              "    </tr>\n",
              "  </tbody>\n",
              "</table>\n",
              "<p>428 rows × 13 columns</p>\n",
              "</div>"
            ],
            "text/plain": [
              "                name  intelligence  ...  eye-color        hair-color\n",
              "0             A-Bomb          38.0  ...     Yellow           No Hair\n",
              "1         Abe Sapien          88.0  ...       Blue           No Hair\n",
              "2           Abin Sur          50.0  ...       Blue           No Hair\n",
              "3        Abomination          63.0  ...      Green           No Hair\n",
              "4      Absorbing Man          38.0  ...       Blue           No Hair\n",
              "..               ...           ...  ...        ...               ...\n",
              "423     Yellowjacket          88.0  ...       Blue             Blond\n",
              "424  Yellowjacket II          50.0  ...       Blue  Strawberry Blond\n",
              "425             Yoda          88.0  ...      Brown             White\n",
              "426          Zatanna          81.0  ...       Blue             Black\n",
              "427             Zoom          50.0  ...        Red             Brown\n",
              "\n",
              "[428 rows x 13 columns]"
            ]
          },
          "metadata": {
            "tags": []
          },
          "execution_count": 14
        }
      ]
    },
    {
      "cell_type": "markdown",
      "metadata": {
        "id": "YmTA3dmSctjw"
      },
      "source": [
        "Algunos análisis y filtros\r\n"
      ]
    },
    {
      "cell_type": "code",
      "metadata": {
        "id": "pyo1DD1icwf4",
        "colab": {
          "base_uri": "https://localhost:8080/",
          "height": 287
        },
        "outputId": "02d573a8-3baf-4544-986d-ec4959747e17"
      },
      "source": [
        "#descripción general de las columnas\r\n",
        "df_clean.describe()"
      ],
      "execution_count": 15,
      "outputs": [
        {
          "output_type": "execute_result",
          "data": {
            "text/html": [
              "<div>\n",
              "<style scoped>\n",
              "    .dataframe tbody tr th:only-of-type {\n",
              "        vertical-align: middle;\n",
              "    }\n",
              "\n",
              "    .dataframe tbody tr th {\n",
              "        vertical-align: top;\n",
              "    }\n",
              "\n",
              "    .dataframe thead th {\n",
              "        text-align: right;\n",
              "    }\n",
              "</style>\n",
              "<table border=\"1\" class=\"dataframe\">\n",
              "  <thead>\n",
              "    <tr style=\"text-align: right;\">\n",
              "      <th></th>\n",
              "      <th>intelligence</th>\n",
              "      <th>strength</th>\n",
              "      <th>speed</th>\n",
              "      <th>durability</th>\n",
              "      <th>power</th>\n",
              "      <th>combat</th>\n",
              "      <th>height_m</th>\n",
              "      <th>weight_kg</th>\n",
              "    </tr>\n",
              "  </thead>\n",
              "  <tbody>\n",
              "    <tr>\n",
              "      <th>count</th>\n",
              "      <td>428.000000</td>\n",
              "      <td>428.000000</td>\n",
              "      <td>428.000000</td>\n",
              "      <td>428.000000</td>\n",
              "      <td>428.000000</td>\n",
              "      <td>428.000000</td>\n",
              "      <td>428.000000</td>\n",
              "      <td>428.000000</td>\n",
              "    </tr>\n",
              "    <tr>\n",
              "      <th>mean</th>\n",
              "      <td>64.813084</td>\n",
              "      <td>42.567757</td>\n",
              "      <td>40.672897</td>\n",
              "      <td>60.112150</td>\n",
              "      <td>64.824766</td>\n",
              "      <td>64.000000</td>\n",
              "      <td>1.843061</td>\n",
              "      <td>115.525701</td>\n",
              "    </tr>\n",
              "    <tr>\n",
              "      <th>std</th>\n",
              "      <td>19.066201</td>\n",
              "      <td>32.575297</td>\n",
              "      <td>23.426411</td>\n",
              "      <td>28.591634</td>\n",
              "      <td>29.012226</td>\n",
              "      <td>22.224425</td>\n",
              "      <td>0.253003</td>\n",
              "      <td>107.305215</td>\n",
              "    </tr>\n",
              "    <tr>\n",
              "      <th>min</th>\n",
              "      <td>6.000000</td>\n",
              "      <td>5.000000</td>\n",
              "      <td>1.000000</td>\n",
              "      <td>1.000000</td>\n",
              "      <td>0.000000</td>\n",
              "      <td>5.000000</td>\n",
              "      <td>0.640000</td>\n",
              "      <td>14.000000</td>\n",
              "    </tr>\n",
              "    <tr>\n",
              "      <th>25%</th>\n",
              "      <td>50.000000</td>\n",
              "      <td>10.000000</td>\n",
              "      <td>23.000000</td>\n",
              "      <td>32.000000</td>\n",
              "      <td>40.000000</td>\n",
              "      <td>50.000000</td>\n",
              "      <td>1.730000</td>\n",
              "      <td>61.000000</td>\n",
              "    </tr>\n",
              "    <tr>\n",
              "      <th>50%</th>\n",
              "      <td>63.000000</td>\n",
              "      <td>32.000000</td>\n",
              "      <td>35.000000</td>\n",
              "      <td>60.000000</td>\n",
              "      <td>64.500000</td>\n",
              "      <td>64.000000</td>\n",
              "      <td>1.830000</td>\n",
              "      <td>82.500000</td>\n",
              "    </tr>\n",
              "    <tr>\n",
              "      <th>75%</th>\n",
              "      <td>75.000000</td>\n",
              "      <td>73.500000</td>\n",
              "      <td>50.000000</td>\n",
              "      <td>85.000000</td>\n",
              "      <td>100.000000</td>\n",
              "      <td>80.000000</td>\n",
              "      <td>1.910000</td>\n",
              "      <td>108.000000</td>\n",
              "    </tr>\n",
              "    <tr>\n",
              "      <th>max</th>\n",
              "      <td>100.000000</td>\n",
              "      <td>100.000000</td>\n",
              "      <td>100.000000</td>\n",
              "      <td>100.000000</td>\n",
              "      <td>100.000000</td>\n",
              "      <td>101.000000</td>\n",
              "      <td>3.660000</td>\n",
              "      <td>900.000000</td>\n",
              "    </tr>\n",
              "  </tbody>\n",
              "</table>\n",
              "</div>"
            ],
            "text/plain": [
              "       intelligence    strength       speed  ...      combat    height_m   weight_kg\n",
              "count    428.000000  428.000000  428.000000  ...  428.000000  428.000000  428.000000\n",
              "mean      64.813084   42.567757   40.672897  ...   64.000000    1.843061  115.525701\n",
              "std       19.066201   32.575297   23.426411  ...   22.224425    0.253003  107.305215\n",
              "min        6.000000    5.000000    1.000000  ...    5.000000    0.640000   14.000000\n",
              "25%       50.000000   10.000000   23.000000  ...   50.000000    1.730000   61.000000\n",
              "50%       63.000000   32.000000   35.000000  ...   64.000000    1.830000   82.500000\n",
              "75%       75.000000   73.500000   50.000000  ...   80.000000    1.910000  108.000000\n",
              "max      100.000000  100.000000  100.000000  ...  101.000000    3.660000  900.000000\n",
              "\n",
              "[8 rows x 8 columns]"
            ]
          },
          "metadata": {
            "tags": []
          },
          "execution_count": 15
        }
      ]
    },
    {
      "cell_type": "code",
      "metadata": {
        "colab": {
          "base_uri": "https://localhost:8080/",
          "height": 197
        },
        "id": "R6ic-gNhA4-j",
        "outputId": "f69a6746-d77f-4786-9230-24ace101187d"
      },
      "source": [
        "# Top 5 de mujeres más poderosas de Marvel\r\n",
        "marvel=df_clean[df_clean['publisher']=='Marvel Comics']\r\n",
        "mujeres_marvel=marvel[marvel['gender']=='Female']\r\n",
        "(mujeres_marvel.sort_values('power',ascending=False).head(5))[['name','power']]"
      ],
      "execution_count": 16,
      "outputs": [
        {
          "output_type": "execute_result",
          "data": {
            "text/html": [
              "<div>\n",
              "<style scoped>\n",
              "    .dataframe tbody tr th:only-of-type {\n",
              "        vertical-align: middle;\n",
              "    }\n",
              "\n",
              "    .dataframe tbody tr th {\n",
              "        vertical-align: top;\n",
              "    }\n",
              "\n",
              "    .dataframe thead th {\n",
              "        text-align: right;\n",
              "    }\n",
              "</style>\n",
              "<table border=\"1\" class=\"dataframe\">\n",
              "  <thead>\n",
              "    <tr style=\"text-align: right;\">\n",
              "      <th></th>\n",
              "      <th>name</th>\n",
              "      <th>power</th>\n",
              "    </tr>\n",
              "  </thead>\n",
              "  <tbody>\n",
              "    <tr>\n",
              "      <th>238</th>\n",
              "      <td>Mantis</td>\n",
              "      <td>100.0</td>\n",
              "    </tr>\n",
              "    <tr>\n",
              "      <th>114</th>\n",
              "      <td>Dazzler</td>\n",
              "      <td>100.0</td>\n",
              "    </tr>\n",
              "    <tr>\n",
              "      <th>342</th>\n",
              "      <td>Sif</td>\n",
              "      <td>100.0</td>\n",
              "    </tr>\n",
              "    <tr>\n",
              "      <th>28</th>\n",
              "      <td>Ardina</td>\n",
              "      <td>100.0</td>\n",
              "    </tr>\n",
              "    <tr>\n",
              "      <th>330</th>\n",
              "      <td>Scarlet Witch</td>\n",
              "      <td>100.0</td>\n",
              "    </tr>\n",
              "  </tbody>\n",
              "</table>\n",
              "</div>"
            ],
            "text/plain": [
              "              name  power\n",
              "238         Mantis  100.0\n",
              "114        Dazzler  100.0\n",
              "342            Sif  100.0\n",
              "28          Ardina  100.0\n",
              "330  Scarlet Witch  100.0"
            ]
          },
          "metadata": {
            "tags": []
          },
          "execution_count": 16
        }
      ]
    },
    {
      "cell_type": "code",
      "metadata": {
        "colab": {
          "base_uri": "https://localhost:8080/",
          "height": 197
        },
        "id": "Rqi59A2iF_sg",
        "outputId": "652e3cf3-1ecd-45b3-b7e7-014b59153a75"
      },
      "source": [
        "# Top 5 de hombres más poderosos de Marvel\r\n",
        "hombres_marvel=marvel[marvel['gender']=='Male']\r\n",
        "(hombres_marvel.sort_values('power',ascending=False).head())[['name','power']]"
      ],
      "execution_count": 17,
      "outputs": [
        {
          "output_type": "execute_result",
          "data": {
            "text/html": [
              "<div>\n",
              "<style scoped>\n",
              "    .dataframe tbody tr th:only-of-type {\n",
              "        vertical-align: middle;\n",
              "    }\n",
              "\n",
              "    .dataframe tbody tr th {\n",
              "        vertical-align: top;\n",
              "    }\n",
              "\n",
              "    .dataframe thead th {\n",
              "        text-align: right;\n",
              "    }\n",
              "</style>\n",
              "<table border=\"1\" class=\"dataframe\">\n",
              "  <thead>\n",
              "    <tr style=\"text-align: right;\">\n",
              "      <th></th>\n",
              "      <th>name</th>\n",
              "      <th>power</th>\n",
              "    </tr>\n",
              "  </thead>\n",
              "  <tbody>\n",
              "    <tr>\n",
              "      <th>422</th>\n",
              "      <td>X-Man</td>\n",
              "      <td>100.0</td>\n",
              "    </tr>\n",
              "    <tr>\n",
              "      <th>396</th>\n",
              "      <td>Ultron</td>\n",
              "      <td>100.0</td>\n",
              "    </tr>\n",
              "    <tr>\n",
              "      <th>343</th>\n",
              "      <td>Silver Surfer</td>\n",
              "      <td>100.0</td>\n",
              "    </tr>\n",
              "    <tr>\n",
              "      <th>245</th>\n",
              "      <td>Mephisto</td>\n",
              "      <td>100.0</td>\n",
              "    </tr>\n",
              "    <tr>\n",
              "      <th>158</th>\n",
              "      <td>Ghost Rider</td>\n",
              "      <td>100.0</td>\n",
              "    </tr>\n",
              "  </tbody>\n",
              "</table>\n",
              "</div>"
            ],
            "text/plain": [
              "              name  power\n",
              "422          X-Man  100.0\n",
              "396         Ultron  100.0\n",
              "343  Silver Surfer  100.0\n",
              "245       Mephisto  100.0\n",
              "158    Ghost Rider  100.0"
            ]
          },
          "metadata": {
            "tags": []
          },
          "execution_count": 17
        }
      ]
    }
  ]
}